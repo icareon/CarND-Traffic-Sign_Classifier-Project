{
 "cells": [
  {
   "cell_type": "markdown",
   "metadata": {},
   "source": [
    "**Traffic Sign Recognition** \n",
    "\n",
    "**Build a Traffic Sign Recognition Project**\n",
    "\n",
    "The goals / steps of this project are the following:\n",
    "* Load the data set (see below for links to the project data set)\n",
    "* Explore, summarize and visualize the data set\n",
    "* Design, train and test a model architecture\n",
    "* Use the model to make predictions on new images\n",
    "* Analyze the softmax probabilities of the new images\n",
    "* Summarize the results with a written report\n"
   ]
  },
  {
   "cell_type": "markdown",
   "metadata": {},
   "source": [
    "## Rubric Points\n",
    "### Here I will consider the [rubric points](https://review.udacity.com/#!/rubrics/481/view) individually and describe how I addressed each point in my implementation.  \n",
    "\n",
    "---\n",
    "### Writeup / README\n",
    "\n",
    "#### 1. Provide a Writeup / README that includes all the rubric points and how you addressed each one. You can submit your writeup as markdown or pdf. You can use this template as a guide for writing the report. The submission includes the project code.\n",
    "\n",
    "You're reading it! and here is a link to my [project code](https://github.com/icareon/CarND-TrafficSigns_P2/blob/master/Traffic_Sign_Classifier.ipynb)\n",
    "\n",
    "### Data Set Summary & Exploration\n",
    "\n",
    "#### 1. Provide a basic summary of the data set. In the code, the analysis should be done using python, numpy and/or pandas methods rather than hardcoding results manually.\n",
    "\n",
    "I used the pandas library to calculate summary statistics of the traffic\n",
    "signs data set:\n",
    "\n",
    "* The size of training set is 34799\n",
    "* The size of the validation set is 4410\n",
    "* The size of test set is 12630\n",
    "* The shape of a traffic sign image is (32, 32, 3)\n",
    "* The number of unique classes/labels in the data set is 43\n"
   ]
  },
  {
   "cell_type": "markdown",
   "metadata": {},
   "source": [
    "\n",
    "#### 2. Include an exploratory visualization of the dataset.\n",
    "\n",
    "Here is an exploratory visualization of the data set. It is a bar chart showing how the data ...\n",
    "\n",
    "![Figure](freq_dist.png)\n",
    "\n",
    "### Design and Test a Model Architecture\n",
    "\n",
    "#### 1. Describe how you preprocessed the image data. What techniques were chosen and why did you choose these techniques? Consider including images showing the output of each preprocessing technique. Pre-processing refers to techniques such as converting to grayscale, normalization, etc. (OPTIONAL: As described in the \"Stand Out Suggestions\" part of the rubric, if you generated additional data for training, describe why you decided to generate additional data, how you generated the data, and provide example images of the additional data. Then describe the characteristics of the augmented training set like number of images in the set, number of images for each class, etc.)\n",
    "\n",
    "As a first step, I decided to convert the images to grayscale because that reduced the influence of shadows and color variations.\n",
    "\n",
    "Here is an example of a traffic sign image before and after grayscaling.\n",
    "\n",
    "![Figure](normal.png)\n",
    "![Figure](grayscale.png)\n",
    "\n",
    "As a last step, I normalized the image data because it reduced the range of pixelvalues, alowing the network to converge easier.\n",
    "\n"
   ]
  },
  {
   "cell_type": "markdown",
   "metadata": {},
   "source": [
    "#### 2. Describe what your final model architecture looks like including model type, layers, layer sizes, connectivity, etc.) Consider including a diagram and/or table describing the final model.\n",
    "\n",
    "My final model consisted of the following layers:\n",
    "\n",
    "| Layer         \t\t|     Description\t        \t\t\t\t\t| \n",
    "|:---------------------:|:---------------------------------------------:| \n",
    "| Input         \t\t| 32x32x3 RGB image   \t\t\t\t\t\t\t| \n",
    "| Convolution 5x5     \t| 1x1 stride, same padding, outputs 32x32x6 \t|\n",
    "| RELU\t\t\t\t\t|\t\t\t\t\t\t\t\t\t\t\t\t|\n",
    "| Max pooling\t      \t| 2x2 stride,  outputs 14x14x16 \t\t\t\t|\n",
    "| Convolution 5x5\t    | 1x1 stride,  outputs 10x10x16 \t\t\t\t|\n",
    "| RELU\t\t\t\t\t|\t\t\t\t\t\t\t\t\t\t\t\t|\n",
    "| Max pooling\t      \t| 2x2 stride,  outputs 5x5x16 \t\t\t\t\t|\n",
    "| Flatten\t \t \t \t| outputs  1x400\t\t\t\t\t\t\t\t|\n",
    "| Fully connected\t\t| outputs  1x120\t\t\t\t\t\t\t\t|\n",
    "| RELU\t\t\t\t\t| \t\t\t \t\t\t\t\t\t\t\t\t|\n",
    "| Fully connected\t\t| outputs  1x84\t\t\t\t\t\t\t\t\t|\n",
    "| RELU\t\t\t\t\t|\t\t\t\t\t\t\t\t\t\t\t\t|\n",
    "| Fully connected\t\t| outputs  1x43\t\t\t\t\t\t\t\t\t|\n"
   ]
  },
  {
   "cell_type": "markdown",
   "metadata": {},
   "source": [
    "#### 3. Describe how you trained your model. The discussion can include the type of optimizer, the batch size, number of epochs and any hyperparameters such as learning rate.\n",
    "\n",
    "To train the model, I used an Adam optimizer and set the batch size to 32. I used a number of epochs of 30 and set my learning rate to 0.002. These values gave me the best results.\n"
   ]
  },
  {
   "cell_type": "markdown",
   "metadata": {},
   "source": [
    "#### 4. Describe the approach taken for finding a solution and getting the validation set accuracy to be at least 0.93. Include in the discussion the results on the training, validation and test sets and where in the code these were calculated. Your approach may have been an iterative process, in which case, outline the steps you took to get to the final solution and why you chose those steps. Perhaps your solution involved an already well known implementation or architecture. In this case, discuss why you think the architecture is suitable for the current problem.\n",
    "\n",
    "My final model results were:\n",
    "* training set accuracy of 0.99\n",
    "* validation set accuracy of 0.947 \n",
    "* test set accuracy of 0.925\n",
    "\n",
    "If a well known architecture was chosen:\n",
    "* I chose the LeNet architecture\n",
    "* I knew it would be relevant because I had used it before on the MNIST Data set and it had the same dimensions for the German Traffic Sign Data Set.\n",
    "* Mainly the model's validation set accuracy which I ran only once was at 0.947 I was able to confirm that the model works well.\n"
   ]
  },
  {
   "cell_type": "markdown",
   "metadata": {},
   "source": [
    "### Test a Model on New Images\n",
    "\n",
    "#### 1. Choose five German traffic signs found on the web and provide them in the report. For each image, discuss what quality or qualities might be difficult to classify.\n",
    "\n",
    "Here are five German traffic signs that I found on the web:\n",
    "\n",
    "![image4](no_entry.jpg \"Traffic Sign 1\")\n",
    "![image5](construction.jpg \"Traffic Sign 2\")\n",
    "![image6](stop.png \"Traffic Sign 3\")\n",
    "![image7](vorfahrt1.jpg \"Traffic Sign 4\")\n",
    "![image8](vorfahrt2.jpg \"Traffic Sign 5\")\n",
    "\n",
    "None of the images are difficult to classify because I cropped them nicely and squarely prior to uploading them to AWS.\n"
   ]
  },
  {
   "cell_type": "markdown",
   "metadata": {},
   "source": [
    "#### 2. Discuss the model's predictions on these new traffic signs and compare the results to predicting on the test set. At a minimum, discuss what the predictions were, the accuracy on these new predictions, and compare the accuracy to the accuracy on the test set (OPTIONAL: Discuss the results in more detail as described in the \"Stand Out Suggestions\" part of the rubric).\n",
    "\n",
    "Here are the results of the prediction:\n",
    "\n",
    "| Image\t\t\t        |     Prediction\t        \t\t\t\t\t| \n",
    "|:---------------------:|:---------------------------------------------:| \n",
    "| No Entry      \t\t| No Entry   \t\t\t\t\t\t\t\t\t| \n",
    "| Construction    \t\t| Construction\t\t\t\t\t\t\t\t\t|\n",
    "| Stop\t\t\t\t\t| Stop\t\t\t\t\t\t\t\t\t\t\t|\n",
    "| Right-of-way at the next intersection\t| Right-of-way at the next intersection\t|\n",
    "| Priority Road\t\t\t| Priority Road  \t\t\t\t\t\t\t\t|\n",
    "\n",
    "\n",
    "The model was able to correctly guess 5 of the 5 traffic signs, which gives an accuracy of 100%. This compares favorably to the accuracy on the test set of 0.925\n"
   ]
  },
  {
   "cell_type": "markdown",
   "metadata": {},
   "source": [
    "#### 3. Describe how certain the model is when predicting on each of the five new images by looking at the softmax probabilities for each prediction. Provide the top 5 softmax probabilities for each image along with the sign type of each probability. (OPTIONAL: as described in the \"Stand Out Suggestions\" part of the rubric, visualizations can also be provided such as bar charts)\n",
    "\n",
    "The code for making predictions on my final model is located in the 11th cell of the Ipython notebook.\n",
    "\n",
    "For the first image, the model is sure that this is a No entry sign (probability of 1.0), and the image does contain a No entry sign. The top five soft max probabilities were\n",
    "\n",
    "| Probability         \t|     Prediction\t        \t\t\t\t\t| \n",
    "|:---------------------:|:---------------------------------------------:| \n",
    "| 1.0         \t\t\t| Stop sign   \t\t\t\t\t\t\t\t\t| \n",
    "| .00     \t\t\t\t| Speed limit (20km/h)\t\t\t\t\t\t\t|\n",
    "| .00\t\t\t\t\t| Speed limit (30km/h)\t\t\t\t\t\t\t|\n",
    "| .00\t      \t\t\t| Speed limit (50km/h)\t\t \t\t\t\t\t|\n",
    "| .00\t\t\t\t    | Speed limit (60km/h)\t\t\t\t\t\t\t|\n",
    "\n",
    "\n",
    "For the second image, the model is sure that this is a Construction sign (probability of 1.0), and the image does contain a Construction sign. The top five soft max probabilities were\n",
    "\n",
    "| Probability         \t|     Prediction\t        \t\t\t\t\t| \n",
    "|:---------------------:|:---------------------------------------------:| \n",
    "| 1.0         \t\t\t| Construction \t\t\t\t\t\t\t\t\t| \n",
    "| .00     \t\t\t\t| Speed limit (20km/h)\t\t\t\t\t\t\t|\n",
    "| .00\t\t\t\t\t| Speed limit (30km/h)\t\t\t\t\t\t\t|\n",
    "| .00\t      \t\t\t| Speed limit (50km/h)\t\t \t\t\t\t\t|\n",
    "| .00\t\t\t\t    | Speed limit (60km/h)\t\t\t\t\t\t\t|\n",
    "\n",
    "\n",
    "For the third image, the model is pretty sure that this is a Stop sign (probability of 1.0), and the image does contain a Stop sign. The top five soft max probabilities were\n",
    "\n",
    "| Probability         \t|     Prediction\t        \t\t\t\t\t| \n",
    "|:---------------------:|:---------------------------------------------:| \n",
    "| 1.0         \t\t\t| Construction \t\t\t\t\t\t\t\t\t| \n",
    "| 2.01781582e-21\t\t| Turn Right ahead   \t\t\t\t\t\t\t|\n",
    "| 9.59578814e-33\t\t| Yield             \t\t\t\t\t\t\t|\n",
    "| 1.55055841e-35\t\t| Keep Right        \t\t \t\t\t\t\t|\n",
    "| 1.55055841e-35\t    | Beware of ice/snow\t\t\t\t\t\t\t|\n",
    "\n",
    "For the fourth image, the model is pretty sure that this is a Right-of-way at the next intersection (probability of 1.0), and the image does contain a Right-of-way at the next intersection. The top five soft max probabilities were 1 and the rest all zero.\n",
    "\n",
    "For the fifth image, the model is pretty sure that this is a Priority road sign (probability of 1.0), and the image does contain a Priority road sign. The top five soft max probabilities were 1 and the rest all zero.\n",
    "\n",
    "\n"
   ]
  },
  {
   "cell_type": "markdown",
   "metadata": {},
   "source": [
    "### (Optional) Visualizing the Neural Network (See Step 4 of the Ipython notebook for more details)\n",
    "#### 1. Discuss the visual output of your trained network's feature maps. What characteristics did the neural network use to make classifications?\n",
    "\n"
   ]
  },
  {
   "cell_type": "code",
   "execution_count": null,
   "metadata": {
    "collapsed": true
   },
   "outputs": [],
   "source": []
  }
 ],
 "metadata": {
  "kernelspec": {
   "display_name": "Python [conda env:carnd-term1]",
   "language": "python",
   "name": "conda-env-carnd-term1-py"
  },
  "language_info": {
   "codemirror_mode": {
    "name": "ipython",
    "version": 3
   },
   "file_extension": ".py",
   "mimetype": "text/x-python",
   "name": "python",
   "nbconvert_exporter": "python",
   "pygments_lexer": "ipython3",
   "version": "3.5.2"
  }
 },
 "nbformat": 4,
 "nbformat_minor": 2
}
